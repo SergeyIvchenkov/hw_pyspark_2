{
 "cells": [
  {
   "cell_type": "code",
   "execution_count": 2,
   "id": "32bc84dc-1fd4-494f-878f-7ce15b1267d1",
   "metadata": {},
   "outputs": [
    {
     "name": "stderr",
     "output_type": "stream",
     "text": [
      "[Stage 2:=============================>                             (1 + 1) / 2]\r"
     ]
    },
    {
     "name": "stdout",
     "output_type": "stream",
     "text": [
      "+--------+---------------+-----------------------+\n",
      "|iso_code|       location|percentage_of_recovered|\n",
      "+--------+---------------+-----------------------+\n",
      "|     AND|        Andorra|                  15.54|\n",
      "|     MNE|     Montenegro|                   14.0|\n",
      "|     CZE|        Czechia|                    9.5|\n",
      "|     PAN|         Panama|                   8.23|\n",
      "|     SWE|         Sweden|                   7.97|\n",
      "|     NLD|    Netherlands|                   7.54|\n",
      "|     GEO|        Georgia|                   7.06|\n",
      "|     ARM|        Armenia|                    6.5|\n",
      "|     LUX|     Luxembourg|                   6.25|\n",
      "|     QAT|          Qatar|                   6.25|\n",
      "|     MKD|North Macedonia|                   6.24|\n",
      "|     JOR|         Jordan|                   5.99|\n",
      "|     MCO|         Monaco|                   5.83|\n",
      "|     MDA|        Moldova|                   5.71|\n",
      "|     LBN|        Lebanon|                   5.65|\n",
      "+--------+---------------+-----------------------+\n",
      "\n"
     ]
    },
    {
     "name": "stderr",
     "output_type": "stream",
     "text": [
      "                                                                                \r"
     ]
    }
   ],
   "source": [
    "from pyspark.sql import SparkSession\n",
    "import pyspark.sql.functions as F\n",
    "from pyspark.sql.window import Window\n",
    "\n",
    "\n",
    "spark = SparkSession \\\n",
    "    .builder \\\n",
    "    .getOrCreate()\n",
    "\n",
    "df = spark.read.format(\"csv\").option(\"header\", \"true\").option(\"inferSchema\", \"true\").load(\"owid-covid-data.csv\")\n",
    "\n",
    "# df.printSchema()\n",
    "\n",
    "\n",
    "#ЗАДАНИЕ 1\n",
    "#Выберите 15 стран с наибольшим процентом переболевших на 31 марта (\n",
    "#в выходящем датасете необходимы колонки: iso_code, страна, процент переболевших)\n",
    "\n",
    "# Предположение что количество людей, которые болели повторно, равно разнице между общим числом случаев заболевания и количеством полностью привитых людей\n",
    "\n",
    "df_1_res = df.fillna({'people_fully_vaccinated': 0})\\\n",
    ".select('iso_code', 'location', F.round(((F.col('total_cases') - F.col('people_fully_vaccinated')) / F.col('population')) * 100, 2).alias('percentage_of_recovered')) \\\n",
    ".where((F.col('date') == '2021-03-31')).orderBy(F.col('percentage_of_recovered').desc()).limit(15)\n",
    "\n",
    "df_1_res.show()\n",
    "\n",
    "# +--------+---------------+-----------------------+\n",
    "# |iso_code|       location|percentage_of_recovered|\n",
    "# +--------+---------------+-----------------------+\n",
    "# |     AND|        Andorra|                  15.54|\n",
    "# |     MNE|     Montenegro|                   14.0|\n",
    "# |     CZE|        Czechia|                    9.5|\n",
    "# |     PAN|         Panama|                   8.23|\n",
    "# |     SWE|         Sweden|                   7.97|\n",
    "# |     NLD|    Netherlands|                   7.54|\n",
    "# |     GEO|        Georgia|                   7.06|\n",
    "# |     ARM|        Armenia|                    6.5|\n",
    "# |     LUX|     Luxembourg|                   6.25|\n",
    "# |     QAT|          Qatar|                   6.25|\n",
    "# |     MKD|North Macedonia|                   6.24|\n",
    "# |     JOR|         Jordan|                   5.99|\n",
    "# |     MCO|         Monaco|                   5.83|\n",
    "# |     MDA|        Moldova|                   5.71|\n",
    "# |     LBN|        Lebanon|                   5.65|\n",
    "# +--------+---------------+-----------------------+\n"
   ]
  },
  {
   "cell_type": "code",
   "execution_count": 22,
   "id": "1b42305e-fbdc-4ae5-8bb2-fe8ea2f51cce",
   "metadata": {},
   "outputs": [
    {
     "name": "stderr",
     "output_type": "stream",
     "text": [
      "[Stage 52:===========================================>          (162 + 3) / 200]\r"
     ]
    },
    {
     "name": "stdout",
     "output_type": "stream",
     "text": [
      "+----------+-------------+---------+\n",
      "|      date|     location|new_cases|\n",
      "+----------+-------------+---------+\n",
      "|2021-03-25|       Brazil| 100158.0|\n",
      "|2021-03-26|United States|  77321.0|\n",
      "|2021-03-31|        India|  72330.0|\n",
      "|2021-03-31|       France|  59054.0|\n",
      "|2021-03-31|       Turkey|  39302.0|\n",
      "|2021-03-26|       Poland|  35145.0|\n",
      "|2021-03-31|      Germany|  25014.0|\n",
      "|2021-03-26|        Italy|  24076.0|\n",
      "|2021-03-25|         Peru|  19206.0|\n",
      "|2021-03-26|      Ukraine|  18226.0|\n",
      "+----------+-------------+---------+\n",
      "\n"
     ]
    },
    {
     "name": "stderr",
     "output_type": "stream",
     "text": [
      "                                                                                \r"
     ]
    }
   ],
   "source": [
    "\n",
    "#ЗАДАНИЕ 2\n",
    "# Top 10 стран с максимальным зафиксированным кол-вом новых случаев за последнюю неделю марта 2021 в отсортированном порядке по убыванию\n",
    "# (в выходящем датасете необходимы колонки: число, страна, кол-во новых случаев)\n",
    "\n",
    "list_of_regions = [x.location for x in df.select('location').where('continent is null').distinct().collect()]\n",
    "\n",
    "window_2 = Window.partitionBy('location')\n",
    "\n",
    "df_with_max_cases = df.select('location', 'date', 'new_cases').where(\\\n",
    "                                                                     (F.col('date').between('2021-03-25', '2021-03-31'))\\\n",
    "                                                                     & (~F.col('location').isin(list_of_regions))\\\n",
    "                                                                    )\\\n",
    "                      .withColumn('max_new_cases', F.max('new_cases')\\\n",
    "                      .over(window_2))\\\n",
    "                      .orderBy(F.col('max_new_cases').desc())\n",
    "\n",
    "df_2_res = df_with_max_cases.where(F.col('new_cases') == F.col('max_new_cases')).select('date', 'location', 'new_cases').limit(10)\n",
    "\n",
    "df_2_res.show()\n",
    "\n",
    "\n",
    "# +----------+-------------+---------+\n",
    "# |      date|     location|new_cases|\n",
    "# +----------+-------------+---------+\n",
    "# |2021-03-25|       Brazil| 100158.0|\n",
    "# |2021-03-26|United States|  77321.0|\n",
    "# |2021-03-31|        India|  72330.0|\n",
    "# |2021-03-31|       France|  59054.0|\n",
    "# |2021-03-31|       Turkey|  39302.0|\n",
    "# |2021-03-26|       Poland|  35145.0|\n",
    "# |2021-03-31|      Germany|  25014.0|\n",
    "# |2021-03-26|        Italy|  24076.0|\n",
    "# |2021-03-25|         Peru|  19206.0|\n",
    "# |2021-03-26|      Ukraine|  18226.0|\n",
    "# +----------+-------------+---------+\n"
   ]
  },
  {
   "cell_type": "code",
   "execution_count": 21,
   "id": "5519e509-deea-4f44-8a05-628e229e4499",
   "metadata": {},
   "outputs": [
    {
     "name": "stderr",
     "output_type": "stream",
     "text": [
      "                                                                                \r"
     ]
    },
    {
     "data": {
      "text/plain": [
       "['International',\n",
       " 'World',\n",
       " 'Europe',\n",
       " 'Africa',\n",
       " 'North America',\n",
       " 'European Union',\n",
       " 'South America',\n",
       " 'Oceania',\n",
       " 'Asia']"
      ]
     },
     "execution_count": 21,
     "metadata": {},
     "output_type": "execute_result"
    }
   ],
   "source": []
  },
  {
   "cell_type": "code",
   "execution_count": 146,
   "id": "2266c40e-7831-456d-a1e9-b9ff0badc2fb",
   "metadata": {},
   "outputs": [
    {
     "name": "stderr",
     "output_type": "stream",
     "text": [
      "23/11/07 17:32:04 WARN WindowExec: No Partition Defined for Window operation! Moving all data to a single partition, this can cause serious performance degradation.\n"
     ]
    },
    {
     "name": "stdout",
     "output_type": "stream",
     "text": [
      "+----------+-------------------+---------+------+\n",
      "|      date|new_cases_yesterday|new_cases| delta|\n",
      "+----------+-------------------+---------+------+\n",
      "|2021-03-25|             8769.0|   9128.0| 359.0|\n",
      "|2021-03-26|             9128.0|   9073.0| -55.0|\n",
      "|2021-03-27|             9073.0|   8783.0|-290.0|\n",
      "|2021-03-28|             8783.0|   8979.0| 196.0|\n",
      "|2021-03-29|             8979.0|   8589.0|-390.0|\n",
      "|2021-03-30|             8589.0|   8162.0|-427.0|\n",
      "|2021-03-31|             8162.0|   8156.0|  -6.0|\n",
      "+----------+-------------------+---------+------+\n",
      "\n"
     ]
    },
    {
     "name": "stderr",
     "output_type": "stream",
     "text": [
      "23/11/07 19:59:56 WARN HeartbeatReceiver: Removing executor driver with no recent heartbeats: 1400326 ms exceeds timeout 120000 ms\n",
      "23/11/07 19:59:56 WARN SparkContext: Killing executors is not supported by current scheduler.\n"
     ]
    }
   ],
   "source": [
    "\n",
    "#ЗАДАНИЕ 3\n",
    "# Посчитайте изменение случаев относительно предыдущего дня в России за последнюю неделю марта 2021. \n",
    "# (например: в россии вчера было 9150 , сегодня 8763, итог: -387) \n",
    "# (в выходящем датасете необходимы колонки: число, кол-во новых случаев вчера, кол-во новых случаев сегодня, дельта)\n",
    "\n",
    "df_3 = df.select('location', 'new_cases', 'date').where((F.col('date').between('2021-03-24', '2021-03-31')) & (F.col('location') == 'Russia'))\n",
    "\n",
    "window_3 = Window.orderBy('date')\n",
    "\n",
    "df_3_res = df_3.withColumn('new_cases_yesterday', F.lag('new_cases').over(window_3))\\\n",
    ".where(F.col('date') != '2021-03-24')\\\n",
    ".withColumn('delta', F.col('new_cases') - F.col('new_cases_yesterday'))\\\n",
    ".select('date', 'new_cases_yesterday', 'new_cases', 'delta')\n",
    "\n",
    "df_3_res.show()\n",
    "\n",
    "\n",
    "# +----------+-------------------+---------+------+\n",
    "# |      date|new_cases_yesterday|new_cases| delta|\n",
    "# +----------+-------------------+---------+------+\n",
    "# |2021-03-25|             8769.0|   9128.0| 359.0|\n",
    "# |2021-03-26|             9128.0|   9073.0| -55.0|\n",
    "# |2021-03-27|             9073.0|   8783.0|-290.0|\n",
    "# |2021-03-28|             8783.0|   8979.0| 196.0|\n",
    "# |2021-03-29|             8979.0|   8589.0|-390.0|\n",
    "# |2021-03-30|             8589.0|   8162.0|-427.0|\n",
    "# |2021-03-31|             8162.0|   8156.0|  -6.0|\n",
    "# +----------+-------------------+---------+------+\n"
   ]
  }
 ],
 "metadata": {
  "kernelspec": {
   "display_name": "Python 3 (ipykernel)",
   "language": "python",
   "name": "python3"
  },
  "language_info": {
   "codemirror_mode": {
    "name": "ipython",
    "version": 3
   },
   "file_extension": ".py",
   "mimetype": "text/x-python",
   "name": "python",
   "nbconvert_exporter": "python",
   "pygments_lexer": "ipython3",
   "version": "3.10.12"
  }
 },
 "nbformat": 4,
 "nbformat_minor": 5
}
